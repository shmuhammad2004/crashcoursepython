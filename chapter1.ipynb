{
 "cells": [
  {
   "cell_type": "markdown",
   "metadata": {},
   "source": [
    "# Chapter 1: GettinGg Started"
   ]
  },
  {
   "cell_type": "markdown",
   "metadata": {},
   "source": [
    "## Do you have Python Installed?\n",
    "- Sometime Python comes preinstall (check version) \n",
    "- CommandLine python -V or python --version\n"
   ]
  },
  {
   "cell_type": "markdown",
   "metadata": {},
   "source": [
    "##  Installing Python\n"
   ]
  },
  {
   "cell_type": "markdown",
   "metadata": {},
   "source": [
    "\n",
    "- Some old Python projects still use Python 2, but you should use python 3 (Download it and install)\n",
    "- https://www.python.org/downloads/"
   ]
  },
  {
   "cell_type": "markdown",
   "metadata": {},
   "source": [
    "## How to run python code\n",
    "Python is a flexible language, and there are several ways to use it depending on your particular task.  <br><br>\n",
    "One thing that distinguishes Python from other programming languages is that it is interpreted rather than compiled. This means that it is executed line by line, which allows programming to be interactive in a way that is not directly possible with compiled languages like Fortran, C, or Java. "
   ]
  },
  {
   "cell_type": "markdown",
   "metadata": {},
   "source": [
    "1. Python Interpreter, available after Python installation \n",
    "    - start by typing python <br><br>\n",
    "2. The IPython interpreter: An exhnace python interpreter called IPython (for Interactive Python) is bundled with the Anaconda distribution, and includes a host of convenient enhancements to the basic Python interpreter. It can be started by typing ipython at the command prompt: <br><br>\n",
    "\n",
    "\n",
    "> The main aesthetic difference between the Python interpreter and the enhanced IPython interpreter lies in the command prompt: Python uses >>> by default, while IPython uses numbered commands (e.g. In [1]:). Regardless, we can execute code line by line just as we did before\n"
   ]
  },
  {
   "cell_type": "markdown",
   "metadata": {},
   "source": [
    "3. Self-contained Python scripts : Running Python snippets line by line is useful in some cases, but for more complicated programs it is more convenient to save code to file, and execute it all at once. By convention, Python scripts are saved in files with a .py extension"
   ]
  },
  {
   "cell_type": "markdown",
   "metadata": {},
   "source": [
    "For example, let's create a script called test.py which contains the following:"
   ]
  },
  {
   "cell_type": "code",
   "execution_count": 1,
   "metadata": {},
   "outputs": [
    {
     "name": "stdout",
     "output_type": "stream",
     "text": [
      "Running test.py\n",
      "Result is 15\n"
     ]
    }
   ],
   "source": [
    "# file: test.py\n",
    "print(\"Running test.py\")\n",
    "x = 5\n",
    "print(\"Result is\", 3 * x)"
   ]
  },
  {
   "cell_type": "markdown",
   "metadata": {},
   "source": [
    "> To run this file, we make sure it is in the current directory and type python"
   ]
  },
  {
   "cell_type": "markdown",
   "metadata": {},
   "source": [
    "4. The Jupyter notebook : A useful hybrid of the interactive terminal and the self-contained script is the Jupyter notebook, a document format that allows executable code, formatted text, graphics, and even interactive features to be combined into a single document. It is now part of [Jupterproject](https://jupyter.org)"
   ]
  },
  {
   "cell_type": "markdown",
   "metadata": {},
   "source": [
    "> The notebook is useful both as a development environment, and as a means of sharing work via rich computational and data-driven narratives that mix together code, figures, data, and text."
   ]
  },
  {
   "cell_type": "markdown",
   "metadata": {},
   "source": [
    "## Again Python Version"
   ]
  },
  {
   "cell_type": "markdown",
   "metadata": {},
   "source": [
    "- Python Shell, Juypter Notebook\n",
    "  - import sys\n",
    "  - sys.version\n",
    "\n",
    "- Python Editor, Juypter Notebook\n",
    "  - import sys\n",
    "  - print(sys.version)"
   ]
  },
  {
   "cell_type": "code",
   "execution_count": 2,
   "metadata": {},
   "outputs": [
    {
     "data": {
      "text/plain": [
       "'3.9.9 | packaged by conda-forge | (main, Dec 20 2021, 02:38:53) \\n[Clang 11.1.0 ]'"
      ]
     },
     "execution_count": 2,
     "metadata": {},
     "output_type": "execute_result"
    }
   ],
   "source": [
    "import sys\n",
    "sys.version"
   ]
  },
  {
   "cell_type": "markdown",
   "metadata": {},
   "source": [
    "## Python Editor"
   ]
  },
  {
   "cell_type": "markdown",
   "metadata": {},
   "source": [
    "- Vscode , Atom , JupterLab , PyCharm , Spyder"
   ]
  },
  {
   "cell_type": "markdown",
   "metadata": {},
   "source": [
    "Managing Python Enviroment : Pipenv vs virtualenv vs conda environment"
   ]
  },
  {
   "cell_type": "markdown",
   "metadata": {},
   "source": [
    "## Installing Python Packages"
   ]
  },
  {
   "cell_type": "markdown",
   "metadata": {},
   "source": [
    "### Pip\n",
    "\n",
    "> PIP is a package management system used to install and manage software packages written in Python. It stands for “preferred installer program” or “Pip Installs Packages.”\n",
    ">\n",
    "- If you installed Python from source, with an installer from python.org, or via Homebrew you should already have pip. <br><br>\n",
    "- pip is the package installer for Python <br><br>\n",
    "- It’s a tool to install python packages from the Python Package Index(PyPi). PyPi is the central repository for all the open-source and third-party python packages <br><br>\n",
    "- It is the most popular way to install, upgrade, and remove third-party libraries.  <br><br>\n",
    "- pip doesn’t usually come with standard python installation and we have to install pip separately. But, from python 3.4 version, pip is a part of the standard installation <br><br>"
   ]
  },
  {
   "cell_type": "markdown",
   "metadata": {},
   "source": [
    "### Ensure pip, setuptools, and wheel are up to date\n",
    "\n",
    "- python3 -m pip install --upgrade pip setuptools wheel\n",
    "- py -m pip install --upgrade pip setuptools wheel\n",
    "\n"
   ]
  },
  {
   "cell_type": "code",
   "execution_count": null,
   "metadata": {},
   "outputs": [],
   "source": [
    "! pip install sklearn "
   ]
  },
  {
   "cell_type": "markdown",
   "metadata": {},
   "source": [
    "### Installation using pip"
   ]
  },
  {
   "cell_type": "markdown",
   "metadata": {},
   "source": [
    " - On command Line: use Pip install ... <br></br>\n",
    " - Jupyter or Ipython : f you’re using an enhanced shell like IPython or the Jupyter notebook, you can run system commands like those in this tutorial by prefacing them with a ! character"
   ]
  },
  {
   "cell_type": "markdown",
   "metadata": {},
   "source": [
    "## Conda\n",
    "\n",
    "To install conda packages, in the terminal or an Anaconda Prompt, run:\n",
    "\n"
   ]
  },
  {
   "cell_type": "markdown",
   "metadata": {},
   "source": [
    "- conda install [packagename] <br></br>\n",
    "- conda update is used to update to the latest compatible version. conda install can be used to install any version\n",
    "\n"
   ]
  },
  {
   "cell_type": "markdown",
   "metadata": {},
   "source": [
    "> Conda uses the same rules for other packages. conda update always installs the highest version with the same major version number, whereas conda install always installs the highest version"
   ]
  },
  {
   "cell_type": "markdown",
   "metadata": {},
   "source": [
    "- If Python 2.7.0 is currently installed, and the latest version of Python 2 is 2.7.5, then conda update python installs Python 2.7.5. It does not install Python 3. <br></br>\n",
    "- If Python 3.7.0 is currently installed, and the latest version of Python is 3.9.0, then conda install python=3 installs Python 3.9.0. <br></br>"
   ]
  },
  {
   "cell_type": "markdown",
   "metadata": {},
   "source": [
    "##  Virtual Environments\n",
    "\n",
    "\n",
    "- A virtual environment is a tool that helps to keep dependencies required by different projects separate by creating isolated spaces for them that contain per-project dependencies for them rather than being installed globally. <br></br>\n",
    "\n",
    "\n",
    "- Users can create virtual environments using one of several tools such as Pipenv or Poetry, or a conda virtual environment. Pipenv and Poetry are based around Python's built-in venv library, whereas conda has its own notion of virtual environments that is lower-level (Python itself is a dependency provided in conda environments).\n",
    "\n",
    "\n",
    "\n"
   ]
  },
  {
   "cell_type": "markdown",
   "metadata": {},
   "source": [
    "### How to create Virtual enviroment?\n",
    "\n",
    "- Create an enviorment <br></br>\n",
    "- Install python packages"
   ]
  },
  {
   "cell_type": "markdown",
   "metadata": {},
   "source": [
    "Conda Cheetsheet: [here](https://docs.conda.io/projects/conda/en/latest/user-guide/cheatsheet.html)\n",
    "More info: [Conda Enviroment Management](https://docs.conda.io/projects/conda/en/latest/user-guide/tasks/manage-environments.html#creating-an-environment-with-commands)"
   ]
  },
  {
   "cell_type": "markdown",
   "metadata": {},
   "source": [
    "### Use pip for Installing¶"
   ]
  },
  {
   "cell_type": "markdown",
   "metadata": {},
   "source": [
    "To install latest version of some project"
   ]
  },
  {
   "cell_type": "markdown",
   "metadata": {},
   "source": [
    "- py -m pip install \"SomeProject\"\n"
   ]
  },
  {
   "cell_type": "markdown",
   "metadata": {},
   "source": [
    "To install a specific version:\n",
    "\n"
   ]
  },
  {
   "cell_type": "markdown",
   "metadata": {},
   "source": [
    "- py -m pip install \"SomeProject==1.4\"\n"
   ]
  },
  {
   "cell_type": "markdown",
   "metadata": {},
   "source": [
    "### Upgrading packages"
   ]
  },
  {
   "cell_type": "markdown",
   "metadata": {},
   "source": [
    "Upgrade an already installed SomeProject to the latest from PyPI.\n",
    "\n"
   ]
  },
  {
   "cell_type": "markdown",
   "metadata": {},
   "source": [
    "- py -m pip install --upgrade SomeProject\n"
   ]
  },
  {
   "cell_type": "markdown",
   "metadata": {},
   "source": [
    "### Requirements files¶\n",
    "\n",
    "“Requirements files” are files containing a list of items to be installed using pip install like so:\n",
    "\n",
    "\n"
   ]
  },
  {
   "cell_type": "markdown",
   "metadata": {},
   "source": [
    "- python -m pip install -r requirements.txt\n"
   ]
  },
  {
   "cell_type": "markdown",
   "metadata": {},
   "source": [
    "### Installing from VCS"
   ]
  },
  {
   "cell_type": "markdown",
   "metadata": {},
   "source": [
    "- py -m pip install -e git+https://git.repo/some_pkg.git#egg=SomeProject          # from git\n"
   ]
  }
 ],
 "metadata": {
  "interpreter": {
   "hash": "895aa688263384567493505d09875376e7685297a6922210da729f70c5caa3cf"
  },
  "kernelspec": {
   "display_name": "Python 3.9.9 ('datascience')",
   "language": "python",
   "name": "python3"
  },
  "language_info": {
   "codemirror_mode": {
    "name": "ipython",
    "version": 3
   },
   "file_extension": ".py",
   "mimetype": "text/x-python",
   "name": "python",
   "nbconvert_exporter": "python",
   "pygments_lexer": "ipython3",
   "version": "3.9.9"
  },
  "orig_nbformat": 4
 },
 "nbformat": 4,
 "nbformat_minor": 2
}
